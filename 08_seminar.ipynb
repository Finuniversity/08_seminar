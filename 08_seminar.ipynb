{
 "cells": [
  {
   "cell_type": "markdown",
   "id": "d46bba13",
   "metadata": {},
   "source": [
    "## Семинар №8: Функциональное программирование"
   ]
  },
  {
   "cell_type": "markdown",
   "id": "35635a8d",
   "metadata": {},
   "source": [
    "15) __В одну строку__ При помощи механизма map/filter/reduce возвести в квадрат числа от 1 до 100, и рассчитать их сумму, не включая в сумму числа, кратные 9. "
   ]
  },
  {
   "cell_type": "code",
   "execution_count": 1,
   "id": "0144a412",
   "metadata": {},
   "outputs": [],
   "source": [
    "# Your code\n"
   ]
  },
  {
   "cell_type": "markdown",
   "id": "6b8602b3",
   "metadata": {},
   "source": [
    "16) При помощи механизма map/filter/reduce из списка списков извлечь элементы, содержащиеся во вложенных списках по индексу 1.\n",
    "\n",
    "Пример:\n",
    "[[1, 2, 3], [2, 3, 4], [0, 1 , 1 , 1], [0, 0]] -> [2, 3, 1, 0]"
   ]
  },
  {
   "cell_type": "code",
   "execution_count": 2,
   "id": "7480729a",
   "metadata": {},
   "outputs": [],
   "source": [
    "# Your code\n"
   ]
  },
  {
   "cell_type": "markdown",
   "id": "e2f75ec9",
   "metadata": {},
   "source": [
    "17) Написать реализацию 16) без доп. функций (в том числе lambda)."
   ]
  },
  {
   "cell_type": "code",
   "execution_count": 3,
   "id": "7f64368b",
   "metadata": {},
   "outputs": [],
   "source": [
    "# Your code\n"
   ]
  },
  {
   "cell_type": "markdown",
   "id": "7ac46363",
   "metadata": {},
   "source": [
    "18) При помощи механизма map/filter/reduce из несколько одинаковых подряд идущих элементов оставить только один.\n",
    "\n",
    "\n",
    "[1, 2, 3, 4, 4, 4, 5, 6, 6, 7, 6, 1, 1] -> [1, 2, 3, 4, 5, 6, 7, 6, 1]"
   ]
  },
  {
   "cell_type": "code",
   "execution_count": 4,
   "id": "8d0c9c9b",
   "metadata": {},
   "outputs": [],
   "source": [
    "# Your code\n"
   ]
  }
 ],
 "metadata": {
  "kernelspec": {
   "display_name": "Python 3 (ipykernel)",
   "language": "python",
   "name": "python3"
  },
  "language_info": {
   "codemirror_mode": {
    "name": "ipython",
    "version": 3
   },
   "file_extension": ".py",
   "mimetype": "text/x-python",
   "name": "python",
   "nbconvert_exporter": "python",
   "pygments_lexer": "ipython3",
   "version": "3.9.7"
  }
 },
 "nbformat": 4,
 "nbformat_minor": 5
}
